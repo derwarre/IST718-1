{
 "cells": [
  {
   "cell_type": "code",
   "execution_count": 1,
   "metadata": {},
   "outputs": [],
   "source": [
    "import wmi\n",
    "import platform\n",
    "from pip._internal.operations import freeze"
   ]
  },
  {
   "cell_type": "code",
   "execution_count": 2,
   "metadata": {},
   "outputs": [
    {
     "name": "stdout",
     "output_type": "stream",
     "text": [
      "OS Name: b'Microsoft Windows 10 Pro'\n",
      "OS Version: 10.0.17134 17134\n",
      "CPU: Intel(R) Core(TM) i7-4790K CPU @ 4.00GHz\n",
      "RAM: 15.947986602783203 GB\n",
      "Graphics Card: NVIDIA GeForce GTX 980\n",
      "Python version: 3.6.6\n"
     ]
    }
   ],
   "source": [
    "computer = wmi.WMI()\n",
    "computer_info = computer.Win32_ComputerSystem()[0]\n",
    "os_info = computer.Win32_OperatingSystem()[0]\n",
    "proc_info = computer.Win32_Processor()[0]\n",
    "gpu_info = computer.Win32_VideoController()[0]\n",
    "\n",
    "os_name = os_info.Name.encode('utf-8').split(b'|')[0]\n",
    "os_version = ' '.join([os_info.Version, os_info.BuildNumber])\n",
    "system_ram = float(os_info.TotalVisibleMemorySize) / 1048576  # KB to GB\n",
    "\n",
    "print('OS Name: {0}'.format(os_name))\n",
    "print('OS Version: {0}'.format(os_version))\n",
    "print('CPU: {0}'.format(proc_info.Name))\n",
    "print('RAM: {0} GB'.format(system_ram))\n",
    "print('Graphics Card: {0}'.format(gpu_info.Name))\n",
    "print('Python version: {0}'.format(platform.python_version()))"
   ]
  },
  {
   "cell_type": "code",
   "execution_count": 3,
   "metadata": {},
   "outputs": [
    {
     "name": "stdout",
     "output_type": "stream",
     "text": [
      "Installed packages:\n",
      "\n",
      "absl-py==0.4.0\n",
      "appdirs==1.4.3\n",
      "asn1crypto==0.24.0\n",
      "astor==0.7.1\n",
      "attrs==18.1.0\n",
      "Automat==0.7.0\n",
      "backcall==0.1.0\n",
      "bleach==2.1.4\n",
      "certifi==2018.8.24\n",
      "cffi==1.11.5\n",
      "colorama==0.3.9\n",
      "constantly==15.1.0\n",
      "cryptography==2.3.1\n",
      "cycler==0.10.0\n",
      "decorator==4.3.0\n",
      "entrypoints==0.2.3\n",
      "gast==0.2.0\n",
      "grpcio==1.12.1\n",
      "h5py==2.8.0\n",
      "html5lib==1.0.1\n",
      "hyperlink==18.0.0\n",
      "idna==2.7\n",
      "incremental==17.5.0\n",
      "ipykernel==4.8.2\n",
      "ipython==6.5.0\n",
      "ipython-genutils==0.2.0\n",
      "jedi==0.12.1\n",
      "Jinja2==2.10\n",
      "jsonschema==2.6.0\n",
      "jupyter-client==5.2.3\n",
      "jupyter-core==4.4.0\n",
      "Keras==2.2.2\n",
      "Keras-Applications==1.0.4\n",
      "Keras-Preprocessing==1.0.2\n",
      "kiwisolver==1.0.1\n",
      "mako==1.0.7\n",
      "Markdown==2.6.11\n",
      "MarkupSafe==1.0\n",
      "matplotlib==2.2.3\n",
      "mistune==0.8.3\n",
      "mkl-fft==1.0.4\n",
      "mkl-random==1.0.1\n",
      "nbconvert==5.3.1\n",
      "nbformat==4.4.0\n",
      "notebook==5.6.0\n",
      "numpy==1.15.1\n",
      "pandas==0.23.4\n",
      "pandocfilters==1.4.2\n",
      "parso==0.3.1\n",
      "patsy==0.5.0\n",
      "pickleshare==0.7.4\n",
      "pip==18.0\n",
      "prometheus-client==0.3.1\n",
      "prompt-toolkit==1.0.15\n",
      "protobuf==3.5.2\n",
      "pyasn1==0.4.4\n",
      "pyasn1-modules==0.2.2\n",
      "pycparser==2.18\n",
      "pydot==1.2.4\n",
      "Pygments==2.2.0\n",
      "pygpu==0.7.6\n",
      "pyOpenSSL==18.0.0\n",
      "pyparsing==2.2.0\n",
      "python-dateutil==2.7.3\n",
      "pytz==2018.5\n",
      "pywin32==223\n",
      "pywinpty==0.5.4\n",
      "PyYAML==3.13\n",
      "pyzmq==17.1.2\n",
      "scikit-learn==0.19.1\n",
      "scipy==1.1.0\n",
      "seaborn==0.9.0\n",
      "Send2Trash==1.5.0\n",
      "service-identity==17.0.0\n",
      "setuptools==40.2.0\n",
      "simplegeneric==0.8.1\n",
      "sip==4.19.12\n",
      "six==1.11.0\n",
      "statsmodels==0.9.0\n",
      "tensorboard==1.9.0\n",
      "tensorflow==1.9.0\n",
      "termcolor==1.1.0\n",
      "terminado==0.8.1\n",
      "testpath==0.3.1\n",
      "Theano==1.0.2+2.gc449c8699\n",
      "tornado==5.1\n",
      "traitlets==4.3.2\n",
      "Twisted==18.7.0\n",
      "wcwidth==0.1.7\n",
      "webencodings==0.5.1\n",
      "Werkzeug==0.14.1\n",
      "wheel==0.31.1\n",
      "wincertstore==0.2\n",
      "WMI==1.4.9\n",
      "zope.interface==4.5.0\n"
     ]
    }
   ],
   "source": [
    "print('Installed packages:\\n')\n",
    "for p in freeze.freeze():\n",
    "    print(p)"
   ]
  },
  {
   "cell_type": "code",
   "execution_count": null,
   "metadata": {},
   "outputs": [],
   "source": []
  }
 ],
 "metadata": {
  "kernelspec": {
   "display_name": "Python 3",
   "language": "python",
   "name": "python3"
  },
  "language_info": {
   "codemirror_mode": {
    "name": "ipython",
    "version": 3
   },
   "file_extension": ".py",
   "mimetype": "text/x-python",
   "name": "python",
   "nbconvert_exporter": "python",
   "pygments_lexer": "ipython3",
   "version": "3.6.6"
  }
 },
 "nbformat": 4,
 "nbformat_minor": 2
}
